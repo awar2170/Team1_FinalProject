{
 "cells": [
  {
   "cell_type": "code",
   "execution_count": 1,
   "id": "5ce65b89",
   "metadata": {},
   "outputs": [],
   "source": [
    "# import dependencies\n",
    "import pandas as pd\n",
    "import pickle\n",
    "from sklearn.model_selection import train_test_split\n",
    "from sklearn.preprocessing import OneHotEncoder\n",
    "from xgboost import XGBClassifier"
   ]
  },
  {
   "cell_type": "code",
   "execution_count": 2,
   "id": "8f10c924",
   "metadata": {},
   "outputs": [
    {
     "data": {
      "text/plain": [
       "Index(['Unnamed: 0', 'Poisonous or Edible', 'Cap-Shape', 'Cap-Surface',\n",
       "       'Cap-Color', 'Bruises', 'Odor', 'Gill-attachment', 'gill-spacing',\n",
       "       'Gill-size', 'Gill-color', 'stalk-shape', 'stalk-root',\n",
       "       'stalk-surface-above-ring', 'stalk-surface-below-ring',\n",
       "       'stalk-color-above-ring', 'stalk color below ring', 'veil-type',\n",
       "       'veil-color', 'ring-number', 'ring-type', 'spore-print-color',\n",
       "       'population', 'habitat'],\n",
       "      dtype='object')"
      ]
     },
     "execution_count": 2,
     "metadata": {},
     "output_type": "execute_result"
    }
   ],
   "source": [
    "# load data for training\n",
    "orig_df = pd.read_csv('../Resources/mushrooms_df_clean.csv')\n",
    "orig_df.columns"
   ]
  },
  {
   "cell_type": "code",
   "execution_count": 3,
   "id": "9c68e1c6",
   "metadata": {},
   "outputs": [
    {
     "data": {
      "text/html": [
       "<div>\n",
       "<style scoped>\n",
       "    .dataframe tbody tr th:only-of-type {\n",
       "        vertical-align: middle;\n",
       "    }\n",
       "\n",
       "    .dataframe tbody tr th {\n",
       "        vertical-align: top;\n",
       "    }\n",
       "\n",
       "    .dataframe thead th {\n",
       "        text-align: right;\n",
       "    }\n",
       "</style>\n",
       "<table border=\"1\" class=\"dataframe\">\n",
       "  <thead>\n",
       "    <tr style=\"text-align: right;\">\n",
       "      <th></th>\n",
       "      <th>Poisonous or Edible</th>\n",
       "      <th>Bruises</th>\n",
       "      <th>Odor</th>\n",
       "      <th>stalk-shape</th>\n",
       "      <th>ring-type</th>\n",
       "    </tr>\n",
       "  </thead>\n",
       "  <tbody>\n",
       "    <tr>\n",
       "      <th>0</th>\n",
       "      <td>p</td>\n",
       "      <td>t</td>\n",
       "      <td>p</td>\n",
       "      <td>e</td>\n",
       "      <td>p</td>\n",
       "    </tr>\n",
       "    <tr>\n",
       "      <th>1</th>\n",
       "      <td>e</td>\n",
       "      <td>f</td>\n",
       "      <td>n</td>\n",
       "      <td>t</td>\n",
       "      <td>e</td>\n",
       "    </tr>\n",
       "    <tr>\n",
       "      <th>2</th>\n",
       "      <td>e</td>\n",
       "      <td>f</td>\n",
       "      <td>n</td>\n",
       "      <td>t</td>\n",
       "      <td>e</td>\n",
       "    </tr>\n",
       "    <tr>\n",
       "      <th>3</th>\n",
       "      <td>e</td>\n",
       "      <td>f</td>\n",
       "      <td>n</td>\n",
       "      <td>t</td>\n",
       "      <td>e</td>\n",
       "    </tr>\n",
       "    <tr>\n",
       "      <th>4</th>\n",
       "      <td>e</td>\n",
       "      <td>f</td>\n",
       "      <td>n</td>\n",
       "      <td>t</td>\n",
       "      <td>e</td>\n",
       "    </tr>\n",
       "  </tbody>\n",
       "</table>\n",
       "</div>"
      ],
      "text/plain": [
       "  Poisonous or Edible Bruises Odor stalk-shape ring-type\n",
       "0                   p       t    p           e         p\n",
       "1                   e       f    n           t         e\n",
       "2                   e       f    n           t         e\n",
       "3                   e       f    n           t         e\n",
       "4                   e       f    n           t         e"
      ]
     },
     "execution_count": 3,
     "metadata": {},
     "output_type": "execute_result"
    }
   ],
   "source": [
    "# Keep X, y columns that can be filtered on\n",
    "new_df = orig_df[['Poisonous or Edible','Bruises', 'Odor', 'stalk-shape', 'ring-type']].copy()\n",
    "new_df.head()"
   ]
  },
  {
   "cell_type": "code",
   "execution_count": 4,
   "id": "68d23093",
   "metadata": {},
   "outputs": [
    {
     "data": {
      "text/html": [
       "<div>\n",
       "<style scoped>\n",
       "    .dataframe tbody tr th:only-of-type {\n",
       "        vertical-align: middle;\n",
       "    }\n",
       "\n",
       "    .dataframe tbody tr th {\n",
       "        vertical-align: top;\n",
       "    }\n",
       "\n",
       "    .dataframe thead th {\n",
       "        text-align: right;\n",
       "    }\n",
       "</style>\n",
       "<table border=\"1\" class=\"dataframe\">\n",
       "  <thead>\n",
       "    <tr style=\"text-align: right;\">\n",
       "      <th></th>\n",
       "      <th>Poisonous or Edible</th>\n",
       "      <th>Bruises</th>\n",
       "      <th>Odor</th>\n",
       "      <th>stalk_shape</th>\n",
       "      <th>ring_type</th>\n",
       "    </tr>\n",
       "  </thead>\n",
       "  <tbody>\n",
       "    <tr>\n",
       "      <th>0</th>\n",
       "      <td>p</td>\n",
       "      <td>t</td>\n",
       "      <td>p</td>\n",
       "      <td>e</td>\n",
       "      <td>p</td>\n",
       "    </tr>\n",
       "    <tr>\n",
       "      <th>1</th>\n",
       "      <td>e</td>\n",
       "      <td>f</td>\n",
       "      <td>n</td>\n",
       "      <td>t</td>\n",
       "      <td>e</td>\n",
       "    </tr>\n",
       "    <tr>\n",
       "      <th>2</th>\n",
       "      <td>e</td>\n",
       "      <td>f</td>\n",
       "      <td>n</td>\n",
       "      <td>t</td>\n",
       "      <td>e</td>\n",
       "    </tr>\n",
       "    <tr>\n",
       "      <th>3</th>\n",
       "      <td>e</td>\n",
       "      <td>f</td>\n",
       "      <td>n</td>\n",
       "      <td>t</td>\n",
       "      <td>e</td>\n",
       "    </tr>\n",
       "    <tr>\n",
       "      <th>4</th>\n",
       "      <td>e</td>\n",
       "      <td>f</td>\n",
       "      <td>n</td>\n",
       "      <td>t</td>\n",
       "      <td>e</td>\n",
       "    </tr>\n",
       "  </tbody>\n",
       "</table>\n",
       "</div>"
      ],
      "text/plain": [
       "  Poisonous or Edible Bruises Odor stalk_shape ring_type\n",
       "0                   p       t    p           e         p\n",
       "1                   e       f    n           t         e\n",
       "2                   e       f    n           t         e\n",
       "3                   e       f    n           t         e\n",
       "4                   e       f    n           t         e"
      ]
     },
     "execution_count": 4,
     "metadata": {},
     "output_type": "execute_result"
    }
   ],
   "source": [
    "new_df.columns = ['Poisonous or Edible','Bruises', 'Odor', 'stalk_shape', 'ring_type']\n",
    "new_df.head()"
   ]
  },
  {
   "cell_type": "code",
   "execution_count": 8,
   "id": "2af11552",
   "metadata": {},
   "outputs": [
    {
     "data": {
      "text/plain": [
       "p    3488\n",
       "l    1296\n",
       "e     824\n",
       "n      36\n",
       "Name: ring_type, dtype: int64"
      ]
     },
     "execution_count": 8,
     "metadata": {},
     "output_type": "execute_result"
    }
   ],
   "source": [
    "new_df[\"ring_type\"].value_counts()"
   ]
  },
  {
   "cell_type": "code",
   "execution_count": 5,
   "id": "942c6d9b",
   "metadata": {},
   "outputs": [],
   "source": [
    "# create function to run machine learning\n",
    "def encodeData(data):\n",
    "    df = data\n",
    "    \n",
    "    # setup data for OneHotEncoder\n",
    "    app_cat = df.dtypes[df.dtypes == \"object\"].index.tolist()\n",
    "\n",
    "    # Create a OneHotEncoder instance\n",
    "    enc = OneHotEncoder(sparse=False)\n",
    "    \n",
    "#     # save encoder state (must be saved before fit_transform)\n",
    "#     enc_file = 'Resources/encoder.pkl'\n",
    "#     pickle.dump(enc, open(enc_file, 'wb'))\n",
    "    \n",
    "    # Fit and transform the OneHotEncoder using the categorical variable list\n",
    "    encoded_df = pd.DataFrame(enc.fit_transform(df[app_cat]))\n",
    "    \n",
    "    # save encoder state (must be saved before fit_transform)\n",
    "    enc_file = '../Resources/encoder.pkl'\n",
    "    pickle.dump(enc, open(enc_file, 'wb'))\n",
    "\n",
    "    # Add the encoded variable names to the dataframe\n",
    "    encoded_df.columns = enc.get_feature_names(app_cat)\n",
    "\n",
    "    # Merge one-hot encoded features and drop the originals\n",
    "    mushroom_df = df.merge(encoded_df, left_index=True, right_index=True)\n",
    "    mushroom_df = mushroom_df.drop(app_cat, axis=1)\n",
    "    \n",
    "    # Remove class target from features data\n",
    "    # Use Poisonous as our \"True\" value for predictions\n",
    "    X = mushroom_df.iloc[:,2:].values.astype(int)\n",
    "    y = mushroom_df.iloc[:,0].astype(int)\n",
    "    \n",
    "    return X, y"
   ]
  },
  {
   "cell_type": "code",
   "execution_count": 6,
   "id": "8e873b9d",
   "metadata": {},
   "outputs": [
    {
     "name": "stderr",
     "output_type": "stream",
     "text": [
      "C:\\Users\\jfait\\anaconda3\\envs\\PythonData\\lib\\site-packages\\sklearn\\utils\\deprecation.py:87: FutureWarning: Function get_feature_names is deprecated; get_feature_names is deprecated in 1.0 and will be removed in 1.2. Please use get_feature_names_out instead.\n",
      "  warnings.warn(msg, category=FutureWarning)\n"
     ]
    }
   ],
   "source": [
    "# Split the preprocessed data into a training and testing dataset\n",
    "X, y = encodeData(new_df)\n",
    "\n",
    "X_train, X_test, y_train, y_test = train_test_split(X, y, train_size=0.8, test_size=0.2, random_state=1)\n",
    "\n",
    "# USE SELECTED CLASSIFER MODEL ON DATA (XGBoost)\n",
    "# XGBoost supports categorical data as \"experimental\" starting with version 1.5\n",
    "\n",
    "# fit model\n",
    "model = XGBClassifier(\n",
    "    tree_method='gpu_hist',     # only use gpu_hist or gpu_predictor\n",
    "    enable_categorical=True,\n",
    "    use_label_encoder=False,    # label encoding removed in v1.6 Use OneHotEncoding.\n",
    "    max_depth=4,\n",
    "    predictor='gpu_predictor',\n",
    "    random_state=1\n",
    ")\n",
    "\n",
    "model.fit(X_train,y_train)\n",
    "\n",
    "# Save model to Pickle\n",
    "filename = '../Resources/fit_model.pkl'\n",
    "pickle.dump(model, open(filename, 'wb'))"
   ]
  },
  {
   "cell_type": "code",
   "execution_count": null,
   "id": "73329357",
   "metadata": {},
   "outputs": [],
   "source": []
  }
 ],
 "metadata": {
  "kernelspec": {
   "display_name": "PythonData",
   "language": "python",
   "name": "pythondata"
  },
  "language_info": {
   "codemirror_mode": {
    "name": "ipython",
    "version": 3
   },
   "file_extension": ".py",
   "mimetype": "text/x-python",
   "name": "python",
   "nbconvert_exporter": "python",
   "pygments_lexer": "ipython3",
   "version": "3.9.7"
  }
 },
 "nbformat": 4,
 "nbformat_minor": 5
}
