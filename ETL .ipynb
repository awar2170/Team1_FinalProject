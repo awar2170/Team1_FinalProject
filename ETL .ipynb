{
 "cells": [
  {
   "cell_type": "code",
   "execution_count": 48,
   "id": "af7a7971",
   "metadata": {},
   "outputs": [],
   "source": [
    "import pandas as pd "
   ]
  },
  {
   "cell_type": "markdown",
   "id": "2c60df54",
   "metadata": {},
   "source": [
    "# Orginial Mushroom Data, All Columns, Dropped N/As"
   ]
  },
  {
   "cell_type": "code",
   "execution_count": 49,
   "id": "a3efc3ff",
   "metadata": {},
   "outputs": [],
   "source": [
    "mushrooms_headers = pd.read_csv(\"Resources/mushroom_data.csv\")"
   ]
  },
  {
   "cell_type": "markdown",
   "id": "ada8ebdd",
   "metadata": {},
   "source": [
    "## Key \n",
    "\n",
    "     1. cap-shape:                bell=b,conical=c,convex=x,flat=f, knobbed=k,sunken=s\n",
    "     2. cap-surface:              fibrous=f,grooves=g,scaly=y,smooth=s\n",
    "     3. cap-color:                brown=n,buff=b,cinnamon=c,gray=g,green=r,\n",
    "                                  pink=p,purple=u,red=e,white=w,yellow=y\n",
    "     4. bruises?:                 bruises=t,no=f\n",
    "     5. odor:                     almond=a,anise=l,creosote=c,fishy=y,foul=f,\n",
    "                                  musty=m,none=n,pungent=p,spicy=s\n",
    "     6. gill-attachment:          attached=a,descending=d,free=f,notched=n\n",
    "     7. gill-spacing:             close=c,crowded=w,distant=d\n",
    "     8. gill-size:                broad=b,narrow=n\n",
    "     9. gill-color:               black=k,brown=n,buff=b,chocolate=h,gray=g,\n",
    "                                  green=r,orange=o,pink=p,purple=u,red=e,\n",
    "                                  white=w,yellow=y\n",
    "    10. stalk-shape:              enlarging=e,tapering=t\n",
    "    11. stalk-root:               bulbous=b,club=c,cup=u,equal=e,\n",
    "                                  rhizomorphs=z,rooted=r,missing=?\n",
    "    12. stalk-surface-above-ring: fibrous=f,scaly=y,silky=k,smooth=s\n",
    "    13. stalk-surface-below-ring: fibrous=f,scaly=y,silky=k,smooth=s\n",
    "    14. stalk-color-above-ring:   brown=n,buff=b,cinnamon=c,gray=g,orange=o,\n",
    "                                  pink=p,red=e,white=w,yellow=y\n",
    "    15. stalk-color-below-ring:   brown=n,buff=b,cinnamon=c,gray=g,orange=o,\n",
    "                                  pink=p,red=e,white=w,yellow=y\n",
    "    16. veil-type:                partial=p,universal=u\n",
    "    17. veil-color:               brown=n,orange=o,white=w,yellow=y\n",
    "    18. ring-number:              none=n,one=o,two=t\n",
    "    19. ring-type:                cobwebby=c,evanescent=e,flaring=f,large=l,\n",
    "                                  none=n,pendant=p,sheathing=s,zone=z\n",
    "    20. spore-print-color:        black=k,brown=n,buff=b,chocolate=h,green=r,\n",
    "                                  orange=o,purple=u,white=w,yellow=y\n",
    "    21. population:               abundant=a,clustered=c,numerous=n,\n",
    "                                  scattered=s,several=v,solitary=y\n",
    "    22. habitat:                  grasses=g,leaves=l,meadows=m,paths=p,\n",
    "                                  urban=u,waste=w,woods=d"
   ]
  },
  {
   "cell_type": "code",
   "execution_count": 50,
   "id": "f321756c",
   "metadata": {},
   "outputs": [
    {
     "data": {
      "text/html": [
       "<div>\n",
       "<style scoped>\n",
       "    .dataframe tbody tr th:only-of-type {\n",
       "        vertical-align: middle;\n",
       "    }\n",
       "\n",
       "    .dataframe tbody tr th {\n",
       "        vertical-align: top;\n",
       "    }\n",
       "\n",
       "    .dataframe thead th {\n",
       "        text-align: right;\n",
       "    }\n",
       "</style>\n",
       "<table border=\"1\" class=\"dataframe\">\n",
       "  <thead>\n",
       "    <tr style=\"text-align: right;\">\n",
       "      <th></th>\n",
       "      <th>Poisonous or Edible</th>\n",
       "      <th>Cap-Shape</th>\n",
       "      <th>Cap-Surface</th>\n",
       "      <th>Cap-Color</th>\n",
       "      <th>Bruises</th>\n",
       "      <th>Odor</th>\n",
       "      <th>Gill-attachment</th>\n",
       "      <th>gill-spacing</th>\n",
       "      <th>Gill-size</th>\n",
       "      <th>Gill-color</th>\n",
       "      <th>...</th>\n",
       "      <th>stalk-surface-below-ring</th>\n",
       "      <th>stalk-color-above-ring</th>\n",
       "      <th>stalk color below ring</th>\n",
       "      <th>veil-type</th>\n",
       "      <th>veil-color</th>\n",
       "      <th>ring-number</th>\n",
       "      <th>ring-type</th>\n",
       "      <th>spore-print-color</th>\n",
       "      <th>population</th>\n",
       "      <th>habitat</th>\n",
       "    </tr>\n",
       "  </thead>\n",
       "  <tbody>\n",
       "    <tr>\n",
       "      <th>0</th>\n",
       "      <td>p</td>\n",
       "      <td>x</td>\n",
       "      <td>s</td>\n",
       "      <td>n</td>\n",
       "      <td>t</td>\n",
       "      <td>p</td>\n",
       "      <td>f</td>\n",
       "      <td>c</td>\n",
       "      <td>n</td>\n",
       "      <td>k</td>\n",
       "      <td>...</td>\n",
       "      <td>s</td>\n",
       "      <td>w</td>\n",
       "      <td>w</td>\n",
       "      <td>p</td>\n",
       "      <td>w</td>\n",
       "      <td>o</td>\n",
       "      <td>p</td>\n",
       "      <td>k</td>\n",
       "      <td>s</td>\n",
       "      <td>u</td>\n",
       "    </tr>\n",
       "    <tr>\n",
       "      <th>1</th>\n",
       "      <td>e</td>\n",
       "      <td>x</td>\n",
       "      <td>f</td>\n",
       "      <td>n</td>\n",
       "      <td>f</td>\n",
       "      <td>n</td>\n",
       "      <td>f</td>\n",
       "      <td>w</td>\n",
       "      <td>b</td>\n",
       "      <td>n</td>\n",
       "      <td>...</td>\n",
       "      <td>f</td>\n",
       "      <td>w</td>\n",
       "      <td>w</td>\n",
       "      <td>p</td>\n",
       "      <td>w</td>\n",
       "      <td>o</td>\n",
       "      <td>e</td>\n",
       "      <td>k</td>\n",
       "      <td>a</td>\n",
       "      <td>g</td>\n",
       "    </tr>\n",
       "    <tr>\n",
       "      <th>2</th>\n",
       "      <td>e</td>\n",
       "      <td>x</td>\n",
       "      <td>s</td>\n",
       "      <td>w</td>\n",
       "      <td>f</td>\n",
       "      <td>n</td>\n",
       "      <td>f</td>\n",
       "      <td>w</td>\n",
       "      <td>b</td>\n",
       "      <td>n</td>\n",
       "      <td>...</td>\n",
       "      <td>f</td>\n",
       "      <td>w</td>\n",
       "      <td>w</td>\n",
       "      <td>p</td>\n",
       "      <td>w</td>\n",
       "      <td>o</td>\n",
       "      <td>e</td>\n",
       "      <td>k</td>\n",
       "      <td>s</td>\n",
       "      <td>g</td>\n",
       "    </tr>\n",
       "    <tr>\n",
       "      <th>3</th>\n",
       "      <td>e</td>\n",
       "      <td>x</td>\n",
       "      <td>f</td>\n",
       "      <td>g</td>\n",
       "      <td>f</td>\n",
       "      <td>n</td>\n",
       "      <td>f</td>\n",
       "      <td>w</td>\n",
       "      <td>b</td>\n",
       "      <td>k</td>\n",
       "      <td>...</td>\n",
       "      <td>f</td>\n",
       "      <td>w</td>\n",
       "      <td>w</td>\n",
       "      <td>p</td>\n",
       "      <td>w</td>\n",
       "      <td>o</td>\n",
       "      <td>e</td>\n",
       "      <td>k</td>\n",
       "      <td>s</td>\n",
       "      <td>g</td>\n",
       "    </tr>\n",
       "    <tr>\n",
       "      <th>4</th>\n",
       "      <td>e</td>\n",
       "      <td>f</td>\n",
       "      <td>f</td>\n",
       "      <td>w</td>\n",
       "      <td>f</td>\n",
       "      <td>n</td>\n",
       "      <td>f</td>\n",
       "      <td>w</td>\n",
       "      <td>b</td>\n",
       "      <td>k</td>\n",
       "      <td>...</td>\n",
       "      <td>f</td>\n",
       "      <td>w</td>\n",
       "      <td>w</td>\n",
       "      <td>p</td>\n",
       "      <td>w</td>\n",
       "      <td>o</td>\n",
       "      <td>e</td>\n",
       "      <td>n</td>\n",
       "      <td>a</td>\n",
       "      <td>g</td>\n",
       "    </tr>\n",
       "  </tbody>\n",
       "</table>\n",
       "<p>5 rows × 23 columns</p>\n",
       "</div>"
      ],
      "text/plain": [
       "  Poisonous or Edible Cap-Shape Cap-Surface Cap-Color Bruises Odor  \\\n",
       "0                   p         x           s         n       t    p   \n",
       "1                   e         x           f         n       f    n   \n",
       "2                   e         x           s         w       f    n   \n",
       "3                   e         x           f         g       f    n   \n",
       "4                   e         f           f         w       f    n   \n",
       "\n",
       "  Gill-attachment gill-spacing Gill-size Gill-color  ...  \\\n",
       "0               f            c         n          k  ...   \n",
       "1               f            w         b          n  ...   \n",
       "2               f            w         b          n  ...   \n",
       "3               f            w         b          k  ...   \n",
       "4               f            w         b          k  ...   \n",
       "\n",
       "  stalk-surface-below-ring stalk-color-above-ring stalk color below ring  \\\n",
       "0                        s                      w                      w   \n",
       "1                        f                      w                      w   \n",
       "2                        f                      w                      w   \n",
       "3                        f                      w                      w   \n",
       "4                        f                      w                      w   \n",
       "\n",
       "  veil-type veil-color ring-number ring-type spore-print-color population  \\\n",
       "0         p          w           o         p                 k          s   \n",
       "1         p          w           o         e                 k          a   \n",
       "2         p          w           o         e                 k          s   \n",
       "3         p          w           o         e                 k          s   \n",
       "4         p          w           o         e                 n          a   \n",
       "\n",
       "  habitat  \n",
       "0       u  \n",
       "1       g  \n",
       "2       g  \n",
       "3       g  \n",
       "4       g  \n",
       "\n",
       "[5 rows x 23 columns]"
      ]
     },
     "execution_count": 50,
     "metadata": {},
     "output_type": "execute_result"
    }
   ],
   "source": [
    "mushrooms_headers.head()"
   ]
  },
  {
   "cell_type": "code",
   "execution_count": 51,
   "id": "6537ecb0",
   "metadata": {},
   "outputs": [
    {
     "name": "stdout",
     "output_type": "stream",
     "text": [
      "<class 'pandas.core.frame.DataFrame'>\n",
      "RangeIndex: 8124 entries, 0 to 8123\n",
      "Data columns (total 23 columns):\n",
      " #   Column                    Non-Null Count  Dtype \n",
      "---  ------                    --------------  ----- \n",
      " 0   Poisonous or Edible       8124 non-null   object\n",
      " 1   Cap-Shape                 8124 non-null   object\n",
      " 2   Cap-Surface               8124 non-null   object\n",
      " 3   Cap-Color                 8124 non-null   object\n",
      " 4   Bruises                   8124 non-null   object\n",
      " 5   Odor                      8124 non-null   object\n",
      " 6   Gill-attachment           8124 non-null   object\n",
      " 7   gill-spacing              8124 non-null   object\n",
      " 8   Gill-size                 8124 non-null   object\n",
      " 9   Gill-color                8124 non-null   object\n",
      " 10  stalk-shape               8124 non-null   object\n",
      " 11  stalk-root                8124 non-null   object\n",
      " 12  stalk-surface-above-ring  8124 non-null   object\n",
      " 13  stalk-surface-below-ring  8124 non-null   object\n",
      " 14  stalk-color-above-ring    8124 non-null   object\n",
      " 15  stalk color below ring    8124 non-null   object\n",
      " 16  veil-type                 8124 non-null   object\n",
      " 17  veil-color                8124 non-null   object\n",
      " 18  ring-number               8124 non-null   object\n",
      " 19  ring-type                 8124 non-null   object\n",
      " 20  spore-print-color         8124 non-null   object\n",
      " 21  population                8124 non-null   object\n",
      " 22  habitat                   8124 non-null   object\n",
      "dtypes: object(23)\n",
      "memory usage: 1.4+ MB\n"
     ]
    }
   ],
   "source": [
    "# Data Types \n",
    "mushrooms_headers.info()"
   ]
  },
  {
   "cell_type": "code",
   "execution_count": 52,
   "id": "7a3302e3",
   "metadata": {},
   "outputs": [],
   "source": [
    "# Getting rid of \"?\" data from stalk-root \n",
    "mushrooms_df_clean = mushrooms_headers[mushrooms_headers[\"stalk-root\"] != \"?\"]"
   ]
  },
  {
   "cell_type": "code",
   "execution_count": 53,
   "id": "30a23279",
   "metadata": {},
   "outputs": [],
   "source": [
    "# mushrooms_df_clean.to_csv(\"mushrooms_df_clean.csv\")"
   ]
  },
  {
   "cell_type": "markdown",
   "id": "7d80f07f",
   "metadata": {},
   "source": [
    "# Secondary No Miss Data"
   ]
  },
  {
   "cell_type": "code",
   "execution_count": 54,
   "id": "e0d66248",
   "metadata": {},
   "outputs": [],
   "source": [
    "mushrooms_no_miss_secondary = pd.read_csv(\"Resources/secondary_data_no_miss.csv\")"
   ]
  },
  {
   "cell_type": "code",
   "execution_count": 55,
   "id": "5f429845",
   "metadata": {},
   "outputs": [
    {
     "name": "stdout",
     "output_type": "stream",
     "text": [
      "<class 'pandas.core.frame.DataFrame'>\n",
      "RangeIndex: 61069 entries, 0 to 61068\n",
      "Data columns (total 16 columns):\n",
      " #   Column                Non-Null Count  Dtype  \n",
      "---  ------                --------------  -----  \n",
      " 0   class                 61069 non-null  object \n",
      " 1   cap-diameter          61069 non-null  float64\n",
      " 2   cap-shape             61069 non-null  object \n",
      " 3   cap-surface           61069 non-null  object \n",
      " 4   cap-color             61069 non-null  object \n",
      " 5   does-bruise-or-bleed  61069 non-null  object \n",
      " 6   gill-attachment       61069 non-null  object \n",
      " 7   gill-spacing          61069 non-null  object \n",
      " 8   gill-color            61069 non-null  object \n",
      " 9   stem-height           61069 non-null  float64\n",
      " 10  stem-width            61069 non-null  float64\n",
      " 11  stem-color            61069 non-null  object \n",
      " 12  has-ring              61069 non-null  object \n",
      " 13  ring-type             61069 non-null  object \n",
      " 14  habitat               61069 non-null  object \n",
      " 15  season                61069 non-null  object \n",
      "dtypes: float64(3), object(13)\n",
      "memory usage: 7.5+ MB\n"
     ]
    }
   ],
   "source": [
    "mushrooms_no_miss_secondary.info()"
   ]
  },
  {
   "cell_type": "markdown",
   "id": "21564097",
   "metadata": {},
   "source": [
    "# Original Mushroom Data, Columns Dropped to Match Secondary No Miss"
   ]
  },
  {
   "cell_type": "code",
   "execution_count": 56,
   "id": "47fabea2",
   "metadata": {},
   "outputs": [],
   "source": [
    "original_mushroom_data_match_no_miss = mushrooms_df_clean[[\"Poisonous or Edible\", \"Cap-Shape\", \"Cap-Surface\", \"Cap-Color\", \"Gill-attachment\", \n",
    "                   \"gill-spacing\", \"Gill-color\", \"ring-type\", \"habitat\"]]"
   ]
  },
  {
   "cell_type": "code",
   "execution_count": 57,
   "id": "0218404a",
   "metadata": {},
   "outputs": [],
   "source": [
    "# Secondary No Miss Data Columns Dropped to match Original Mushroom Data \n",
    "mushrooms_no_miss_match_original_mushroom = mushrooms_no_miss_secondary[[\"class\", \"cap-shape\", \"cap-surface\", \"cap-color\", \"gill-attachment\", \"gill-spacing\", \"gill-color\", \"ring-type\", \"habitat\"]]"
   ]
  },
  {
   "cell_type": "code",
   "execution_count": 58,
   "id": "24aa6fb6",
   "metadata": {},
   "outputs": [],
   "source": [
    "# Merging the original_mushroom_data and the mushrooms_no_miss data \n",
    "renanme_original_mushroom = original_mushroom_data_match_no_miss.rename(columns = {\"Poisonous or Edible\": \"class\", \"Cap-Shape\": \"cap-shape\", \"Cap-Surface\": \"cap-surface\", \n",
    "                                                        \"Cap-Color\": \"cap-color\", \"Gill-attachment\": \"gill-attachment\", \"Gill-color\":\"gill-color\"})"
   ]
  },
  {
   "cell_type": "code",
   "execution_count": 59,
   "id": "fb610654",
   "metadata": {},
   "outputs": [],
   "source": [
    "full_secondary_and_original_combined = renanme_original_mushroom.append(mushrooms_no_miss_match_original_mushroom)"
   ]
  },
  {
   "cell_type": "code",
   "execution_count": 60,
   "id": "35948ff6",
   "metadata": {},
   "outputs": [
    {
     "name": "stdout",
     "output_type": "stream",
     "text": [
      "<class 'pandas.core.frame.DataFrame'>\n",
      "Int64Index: 66713 entries, 0 to 61068\n",
      "Data columns (total 9 columns):\n",
      " #   Column           Non-Null Count  Dtype \n",
      "---  ------           --------------  ----- \n",
      " 0   class            66713 non-null  object\n",
      " 1   cap-shape        66713 non-null  object\n",
      " 2   cap-surface      66713 non-null  object\n",
      " 3   cap-color        66713 non-null  object\n",
      " 4   gill-attachment  66713 non-null  object\n",
      " 5   gill-spacing     66713 non-null  object\n",
      " 6   gill-color       66713 non-null  object\n",
      " 7   ring-type        66713 non-null  object\n",
      " 8   habitat          66713 non-null  object\n",
      "dtypes: object(9)\n",
      "memory usage: 5.1+ MB\n"
     ]
    }
   ],
   "source": [
    "full_secondary_and_original_combined.info()"
   ]
  },
  {
   "cell_type": "code",
   "execution_count": 61,
   "id": "f17d7c7c",
   "metadata": {},
   "outputs": [],
   "source": [
    "# mushrooms_df_clean.to_csv(\"mushrooms_combined_df_clean.csv\")"
   ]
  },
  {
   "cell_type": "code",
   "execution_count": null,
   "id": "ff7c0726",
   "metadata": {},
   "outputs": [],
   "source": []
  }
 ],
 "metadata": {
  "kernelspec": {
   "display_name": "PythonData",
   "language": "python",
   "name": "pythondata"
  },
  "language_info": {
   "codemirror_mode": {
    "name": "ipython",
    "version": 3
   },
   "file_extension": ".py",
   "mimetype": "text/x-python",
   "name": "python",
   "nbconvert_exporter": "python",
   "pygments_lexer": "ipython3",
   "version": "3.9.7"
  }
 },
 "nbformat": 4,
 "nbformat_minor": 5
}
